{
 "cells": [
  {
   "cell_type": "markdown",
   "id": "5c7b34fd-51f1-4bf7-bac7-024080d4a5e5",
   "metadata": {},
   "source": [
    "rinsiya=45"
   ]
  },
  {
   "cell_type": "code",
   "execution_count": 2,
   "id": "f6d36496-2508-448b-aa68-7b15428ae66c",
   "metadata": {},
   "outputs": [
    {
     "data": {
      "text/plain": [
       "45"
      ]
     },
     "execution_count": 2,
     "metadata": {},
     "output_type": "execute_result"
    }
   ],
   "source": [
    "rinsiya"
   ]
  },
  {
   "cell_type": "markdown",
   "id": "35a1e204-6573-43b0-96f5-5474f4f36cc5",
   "metadata": {},
   "source": [
    "python"
   ]
  },
  {
   "cell_type": "code",
   "execution_count": 5,
   "id": "e921a012-740d-479c-80c3-5e925294d2f7",
   "metadata": {},
   "outputs": [],
   "source": [
    "dic={\"name\":\"rinsiya\"}"
   ]
  },
  {
   "cell_type": "code",
   "execution_count": 7,
   "id": "220df11c-deb6-4dc2-beb5-9effe4ffe5d7",
   "metadata": {},
   "outputs": [
    {
     "data": {
      "text/plain": [
       "{'name': 'rinsiya'}"
      ]
     },
     "execution_count": 7,
     "metadata": {},
     "output_type": "execute_result"
    }
   ],
   "source": [
    "dic"
   ]
  },
  {
   "cell_type": "code",
   "execution_count": 8,
   "id": "343bf356-efb3-401c-ba24-4d1d458cc1cc",
   "metadata": {},
   "outputs": [
    {
     "data": {
      "text/plain": [
       "'rinsiya'"
      ]
     },
     "execution_count": 8,
     "metadata": {},
     "output_type": "execute_result"
    }
   ],
   "source": [
    "dic[\"name\"]"
   ]
  },
  {
   "cell_type": "code",
   "execution_count": 9,
   "id": "91f961fd-1914-41b4-98ad-076ae3137eb1",
   "metadata": {},
   "outputs": [
    {
     "name": "stdin",
     "output_type": "stream",
     "text": [
      " 77\n"
     ]
    }
   ],
   "source": [
    "dic2=input()"
   ]
  },
  {
   "cell_type": "code",
   "execution_count": 10,
   "id": "da942b6b-10ef-4495-a8dc-1cfb7d96843a",
   "metadata": {},
   "outputs": [
    {
     "data": {
      "text/plain": [
       "'77'"
      ]
     },
     "execution_count": 10,
     "metadata": {},
     "output_type": "execute_result"
    }
   ],
   "source": [
    "dic2"
   ]
  },
  {
   "cell_type": "code",
   "execution_count": 11,
   "id": "807628b2-d7bf-41ff-8a5f-82477ec404c9",
   "metadata": {},
   "outputs": [
    {
     "data": {
      "text/plain": [
       "str"
      ]
     },
     "execution_count": 11,
     "metadata": {},
     "output_type": "execute_result"
    }
   ],
   "source": [
    "type(dic2)"
   ]
  },
  {
   "cell_type": "code",
   "execution_count": 13,
   "id": "bec65a3c-306a-443e-b737-d004e5dc1797",
   "metadata": {},
   "outputs": [
    {
     "name": "stdin",
     "output_type": "stream",
     "text": [
      "enter a number 563\n"
     ]
    }
   ],
   "source": [
    "dic3=input(\"enter a number\")"
   ]
  },
  {
   "cell_type": "code",
   "execution_count": 14,
   "id": "b80c5c4b-465a-4b36-8473-fbc4fbbb6392",
   "metadata": {},
   "outputs": [
    {
     "data": {
      "text/plain": [
       "str"
      ]
     },
     "execution_count": 14,
     "metadata": {},
     "output_type": "execute_result"
    }
   ],
   "source": [
    "type(dic3)"
   ]
  },
  {
   "cell_type": "code",
   "execution_count": 15,
   "id": "fe78f7b2-336b-4346-9190-18bdefbe2bdb",
   "metadata": {},
   "outputs": [
    {
     "name": "stdin",
     "output_type": "stream",
     "text": [
      "enter a number 35\n"
     ]
    }
   ],
   "source": [
    "dic3=int(input(\"enter a number\"))"
   ]
  },
  {
   "cell_type": "code",
   "execution_count": 16,
   "id": "a3b8fc16-e406-4866-b43f-f62193d99cb6",
   "metadata": {},
   "outputs": [
    {
     "data": {
      "text/plain": [
       "35"
      ]
     },
     "execution_count": 16,
     "metadata": {},
     "output_type": "execute_result"
    }
   ],
   "source": [
    "dic3"
   ]
  },
  {
   "cell_type": "code",
   "execution_count": 17,
   "id": "be10eada-c47e-4fec-b74b-ed82ecd1067f",
   "metadata": {},
   "outputs": [
    {
     "data": {
      "text/plain": [
       "int"
      ]
     },
     "execution_count": 17,
     "metadata": {},
     "output_type": "execute_result"
    }
   ],
   "source": [
    "type(dic3)"
   ]
  },
  {
   "cell_type": "code",
   "execution_count": 20,
   "id": "18e84e50-28ab-4395-b97b-458fe4dff227",
   "metadata": {},
   "outputs": [
    {
     "name": "stdin",
     "output_type": "stream",
     "text": [
      "enter a number a\n"
     ]
    },
    {
     "ename": "ValueError",
     "evalue": "invalid literal for int() with base 10: 'a'",
     "output_type": "error",
     "traceback": [
      "\u001b[1;31m---------------------------------------------------------------------------\u001b[0m",
      "\u001b[1;31mValueError\u001b[0m                                Traceback (most recent call last)",
      "Cell \u001b[1;32mIn[20], line 1\u001b[0m\n\u001b[1;32m----> 1\u001b[0m dic3\u001b[38;5;241m=\u001b[39m\u001b[38;5;28mint\u001b[39m(\u001b[38;5;28minput\u001b[39m(\u001b[38;5;124m\"\u001b[39m\u001b[38;5;124menter a number\u001b[39m\u001b[38;5;124m\"\u001b[39m))\n",
      "\u001b[1;31mValueError\u001b[0m: invalid literal for int() with base 10: 'a'"
     ]
    }
   ],
   "source": [
    "dic3=int(input(\"enter a number\"))"
   ]
  },
  {
   "cell_type": "code",
   "execution_count": 23,
   "id": "c7849d09-2fe7-4c6a-834a-0385ea30dbdc",
   "metadata": {},
   "outputs": [
    {
     "name": "stdin",
     "output_type": "stream",
     "text": [
      "enter a number 85\n"
     ]
    }
   ],
   "source": [
    "dic3=float(input(\"enter a number\"))"
   ]
  },
  {
   "cell_type": "code",
   "execution_count": 24,
   "id": "1cf16e06-bb99-4825-9e0d-ac3216bf7884",
   "metadata": {},
   "outputs": [],
   "source": [
    "list1=[\"apple\",12,55.5,True,12+44j]"
   ]
  },
  {
   "cell_type": "code",
   "execution_count": 25,
   "id": "29ad73e3-8a9b-4302-a81f-6da51bc88595",
   "metadata": {},
   "outputs": [
    {
     "data": {
      "text/plain": [
       "['apple', 12, 55.5, True, (12+44j)]"
      ]
     },
     "execution_count": 25,
     "metadata": {},
     "output_type": "execute_result"
    }
   ],
   "source": [
    "list1"
   ]
  },
  {
   "cell_type": "code",
   "execution_count": 27,
   "id": "259b1fcc-ddc0-4487-a64f-de15b4c0b8ac",
   "metadata": {},
   "outputs": [
    {
     "name": "stdout",
     "output_type": "stream",
     "text": [
      "['apple', 12, 55.5, True, (12+44j)]\n"
     ]
    }
   ],
   "source": [
    "print(list1)"
   ]
  },
  {
   "cell_type": "code",
   "execution_count": 28,
   "id": "19a66625-6b12-4b3a-afc4-9d311b0583df",
   "metadata": {},
   "outputs": [
    {
     "name": "stdout",
     "output_type": "stream",
     "text": [
      "True\n"
     ]
    }
   ],
   "source": [
    "print(list1[3])"
   ]
  },
  {
   "cell_type": "code",
   "execution_count": 30,
   "id": "d4bf3cfc-eeda-4177-8b17-f952bac3fd47",
   "metadata": {},
   "outputs": [
    {
     "name": "stdout",
     "output_type": "stream",
     "text": [
      "apple\n",
      "12\n",
      "55.5\n",
      "True\n",
      "(12+44j)\n"
     ]
    }
   ],
   "source": [
    "list2=[0,1,2,3,4]\n",
    "for value in list2:\n",
    "    print(list1[value])"
   ]
  },
  {
   "cell_type": "code",
   "execution_count": 60,
   "id": "da80dc8b-5b41-4a8a-a6a4-989f621d37bb",
   "metadata": {},
   "outputs": [],
   "source": [
    "list1=[\"apple\",12,55.5,True,12+44j,65,77]"
   ]
  },
  {
   "cell_type": "code",
   "execution_count": 43,
   "id": "40d582fd-e446-4621-ab3b-1282caa70e5e",
   "metadata": {},
   "outputs": [
    {
     "name": "stdout",
     "output_type": "stream",
     "text": [
      "apple\n",
      "12\n",
      "55.5\n",
      "True\n",
      "(12+44j)\n",
      "65\n"
     ]
    }
   ],
   "source": [
    "for value in range(0,len(list1)):\n",
    "    print(list1[value])"
   ]
  },
  {
   "cell_type": "code",
   "execution_count": 46,
   "id": "cc69f26b-6c8c-428f-9f5c-69dc92c9c7f0",
   "metadata": {},
   "outputs": [
    {
     "data": {
      "text/plain": [
       "7"
      ]
     },
     "execution_count": 46,
     "metadata": {},
     "output_type": "execute_result"
    }
   ],
   "source": [
    "len(list1)"
   ]
  },
  {
   "cell_type": "code",
   "execution_count": 61,
   "id": "cfd9fada-0f6c-49af-8de5-b208c7afe5f0",
   "metadata": {},
   "outputs": [
    {
     "name": "stdout",
     "output_type": "stream",
     "text": [
      "77\n",
      "65\n",
      "(12+44j)\n",
      "True\n",
      "55.5\n",
      "12\n",
      "apple\n"
     ]
    }
   ],
   "source": [
    "value=len(list1)-1\n",
    "while value>=0:\n",
    "    print(list1[value])\n",
    "    value=value-1"
   ]
  },
  {
   "cell_type": "code",
   "execution_count": 2,
   "id": "99e2ed98-6701-40c5-a11d-391bb4c48d21",
   "metadata": {},
   "outputs": [],
   "source": [
    "my_list=[1,2,3]"
   ]
  },
  {
   "cell_type": "code",
   "execution_count": 3,
   "id": "fbc0e011-fdb0-4a56-80fa-326248825329",
   "metadata": {},
   "outputs": [
    {
     "data": {
      "text/plain": [
       "[1, 2, 3]"
      ]
     },
     "execution_count": 3,
     "metadata": {},
     "output_type": "execute_result"
    }
   ],
   "source": [
    "my_list"
   ]
  },
  {
   "cell_type": "code",
   "execution_count": 4,
   "id": "adad32fc-85ce-444e-8042-641f215bac99",
   "metadata": {},
   "outputs": [],
   "source": [
    "my_list={\"a sting\",23,100.232,\"o\"}"
   ]
  },
  {
   "cell_type": "code",
   "execution_count": 5,
   "id": "104c82d8-5ddd-4ce2-ad8b-0f7ddee0f241",
   "metadata": {},
   "outputs": [
    {
     "data": {
      "text/plain": [
       "{100.232, 23, 'a sting', 'o'}"
      ]
     },
     "execution_count": 5,
     "metadata": {},
     "output_type": "execute_result"
    }
   ],
   "source": [
    "my_list"
   ]
  },
  {
   "cell_type": "code",
   "execution_count": 6,
   "id": "fc85d062-3dfb-480f-8294-99a81928bb10",
   "metadata": {},
   "outputs": [
    {
     "data": {
      "text/plain": [
       "4"
      ]
     },
     "execution_count": 6,
     "metadata": {},
     "output_type": "execute_result"
    }
   ],
   "source": [
    "len(my_list)"
   ]
  },
  {
   "cell_type": "code",
   "execution_count": 7,
   "id": "a44f8641-c8b4-4073-bca9-e8e06e778808",
   "metadata": {},
   "outputs": [],
   "source": [
    "list1=[\"rinsiya\",55,36.99,True,45+96j]"
   ]
  },
  {
   "cell_type": "code",
   "execution_count": 8,
   "id": "c275dd0b-5fd8-413c-a292-033722ba2314",
   "metadata": {},
   "outputs": [
    {
     "data": {
      "text/plain": [
       "['rinsiya', 55, 36.99, True, (45+96j)]"
      ]
     },
     "execution_count": 8,
     "metadata": {},
     "output_type": "execute_result"
    }
   ],
   "source": [
    "list1"
   ]
  },
  {
   "cell_type": "code",
   "execution_count": 10,
   "id": "e386af98-bac3-4a3e-a348-91ea1f96ffbb",
   "metadata": {},
   "outputs": [
    {
     "name": "stdout",
     "output_type": "stream",
     "text": [
      "36.99\n"
     ]
    }
   ],
   "source": [
    "print(list1[2])"
   ]
  },
  {
   "cell_type": "code",
   "execution_count": 11,
   "id": "6e963f8d-8eff-4af9-9e00-11b0429800f7",
   "metadata": {},
   "outputs": [],
   "source": [
    "set1={1,5,69,74,83,44,69,5,\"apple\",True}"
   ]
  },
  {
   "cell_type": "code",
   "execution_count": 12,
   "id": "622a9d75-377c-4f2f-ba0e-1200951c9290",
   "metadata": {},
   "outputs": [
    {
     "data": {
      "text/plain": [
       "{1, 44, 5, 69, 74, 83, 'apple'}"
      ]
     },
     "execution_count": 12,
     "metadata": {},
     "output_type": "execute_result"
    }
   ],
   "source": [
    "set1"
   ]
  },
  {
   "cell_type": "code",
   "execution_count": 13,
   "id": "13f1146f-2a4d-416f-ae3a-98a015032d4c",
   "metadata": {},
   "outputs": [
    {
     "data": {
      "text/plain": [
       "set"
      ]
     },
     "execution_count": 13,
     "metadata": {},
     "output_type": "execute_result"
    }
   ],
   "source": [
    "type(set1)"
   ]
  },
  {
   "cell_type": "code",
   "execution_count": 14,
   "id": "9e79f46e-18b3-4301-8c16-0d184c4d58d2",
   "metadata": {},
   "outputs": [
    {
     "data": {
      "text/plain": [
       "['__and__',\n",
       " '__class__',\n",
       " '__class_getitem__',\n",
       " '__contains__',\n",
       " '__delattr__',\n",
       " '__dir__',\n",
       " '__doc__',\n",
       " '__eq__',\n",
       " '__format__',\n",
       " '__ge__',\n",
       " '__getattribute__',\n",
       " '__getstate__',\n",
       " '__gt__',\n",
       " '__hash__',\n",
       " '__iand__',\n",
       " '__init__',\n",
       " '__init_subclass__',\n",
       " '__ior__',\n",
       " '__isub__',\n",
       " '__iter__',\n",
       " '__ixor__',\n",
       " '__le__',\n",
       " '__len__',\n",
       " '__lt__',\n",
       " '__ne__',\n",
       " '__new__',\n",
       " '__or__',\n",
       " '__rand__',\n",
       " '__reduce__',\n",
       " '__reduce_ex__',\n",
       " '__repr__',\n",
       " '__ror__',\n",
       " '__rsub__',\n",
       " '__rxor__',\n",
       " '__setattr__',\n",
       " '__sizeof__',\n",
       " '__str__',\n",
       " '__sub__',\n",
       " '__subclasshook__',\n",
       " '__xor__',\n",
       " 'add',\n",
       " 'clear',\n",
       " 'copy',\n",
       " 'difference',\n",
       " 'difference_update',\n",
       " 'discard',\n",
       " 'intersection',\n",
       " 'intersection_update',\n",
       " 'isdisjoint',\n",
       " 'issubset',\n",
       " 'issuperset',\n",
       " 'pop',\n",
       " 'remove',\n",
       " 'symmetric_difference',\n",
       " 'symmetric_difference_update',\n",
       " 'union',\n",
       " 'update']"
      ]
     },
     "execution_count": 14,
     "metadata": {},
     "output_type": "execute_result"
    }
   ],
   "source": [
    "dir(set1)"
   ]
  },
  {
   "cell_type": "code",
   "execution_count": 16,
   "id": "a89be927-7683-4530-aa6d-ee4ef7db6ad2",
   "metadata": {},
   "outputs": [],
   "source": [
    "set1.add(35)"
   ]
  },
  {
   "cell_type": "code",
   "execution_count": 17,
   "id": "65bd5b07-c28e-44f8-96ab-15a9b96b5f2c",
   "metadata": {},
   "outputs": [
    {
     "data": {
      "text/plain": [
       "{1, 35, 44, 5, 69, 74, 83, 'apple'}"
      ]
     },
     "execution_count": 17,
     "metadata": {},
     "output_type": "execute_result"
    }
   ],
   "source": [
    "set1"
   ]
  },
  {
   "cell_type": "code",
   "execution_count": 18,
   "id": "d6f553d0-e799-42f2-ad0c-a36f8b781db0",
   "metadata": {},
   "outputs": [],
   "source": [
    "set2={1,35,44,5,99,33,77,66,88,11,\"mango\"}"
   ]
  },
  {
   "cell_type": "code",
   "execution_count": 19,
   "id": "fda9ae75-19e2-46f0-abc3-c5d0c37ccdba",
   "metadata": {},
   "outputs": [
    {
     "data": {
      "text/plain": [
       "{1, 11, 33, 35, 44, 5, 66, 77, 88, 99, 'mango'}"
      ]
     },
     "execution_count": 19,
     "metadata": {},
     "output_type": "execute_result"
    }
   ],
   "source": [
    "set2"
   ]
  },
  {
   "cell_type": "code",
   "execution_count": 20,
   "id": "5fda104b-b018-4149-9e5c-e6689a9c3903",
   "metadata": {},
   "outputs": [
    {
     "data": {
      "text/plain": [
       "{1, 11, 33, 35, 44, 5, 66, 69, 74, 77, 83, 88, 99, 'apple', 'mango'}"
      ]
     },
     "execution_count": 20,
     "metadata": {},
     "output_type": "execute_result"
    }
   ],
   "source": [
    "set1.union(set2)"
   ]
  },
  {
   "cell_type": "code",
   "execution_count": 21,
   "id": "7552d234-7d6a-4ba9-9cd0-945d10462564",
   "metadata": {},
   "outputs": [
    {
     "data": {
      "text/plain": [
       "{1, 35, 44, 5, 69, 74, 83, 'apple'}"
      ]
     },
     "execution_count": 21,
     "metadata": {},
     "output_type": "execute_result"
    }
   ],
   "source": [
    "set1"
   ]
  },
  {
   "cell_type": "code",
   "execution_count": 23,
   "id": "e06a9643-9d06-45e0-9ea0-1bd05f50b494",
   "metadata": {},
   "outputs": [
    {
     "data": {
      "text/plain": [
       "{69, 74, 83, 'apple'}"
      ]
     },
     "execution_count": 23,
     "metadata": {},
     "output_type": "execute_result"
    }
   ],
   "source": [
    "set1.difference(set2)"
   ]
  },
  {
   "cell_type": "code",
   "execution_count": 24,
   "id": "40971b64-42bc-42fc-81ee-9a7a81dc4bf6",
   "metadata": {},
   "outputs": [
    {
     "data": {
      "text/plain": [
       "{11, 33, 66, 77, 88, 99, 'mango'}"
      ]
     },
     "execution_count": 24,
     "metadata": {},
     "output_type": "execute_result"
    }
   ],
   "source": [
    "set2.difference(set1)"
   ]
  },
  {
   "cell_type": "code",
   "execution_count": 25,
   "id": "0fc6e351-a475-4c98-8a20-e35bd4f8470f",
   "metadata": {},
   "outputs": [
    {
     "data": {
      "text/plain": [
       "{1, 5, 35, 44}"
      ]
     },
     "execution_count": 25,
     "metadata": {},
     "output_type": "execute_result"
    }
   ],
   "source": [
    "set1.intersection(set2)"
   ]
  },
  {
   "cell_type": "code",
   "execution_count": 26,
   "id": "049f898a-ead4-426b-8690-c864bb1a8405",
   "metadata": {},
   "outputs": [
    {
     "data": {
      "text/plain": [
       "{1, 35, 44, 5, 69, 74, 83, 'apple'}"
      ]
     },
     "execution_count": 26,
     "metadata": {},
     "output_type": "execute_result"
    }
   ],
   "source": [
    "set1"
   ]
  },
  {
   "cell_type": "code",
   "execution_count": 28,
   "id": "f8bc38a8-eab0-4ab1-b858-99d604c784bd",
   "metadata": {},
   "outputs": [
    {
     "data": {
      "text/plain": [
       "{11, 33, 66, 69, 74, 77, 83, 88, 99, 'apple', 'mango'}"
      ]
     },
     "execution_count": 28,
     "metadata": {},
     "output_type": "execute_result"
    }
   ],
   "source": [
    "set1.symmetric_difference(set2)"
   ]
  },
  {
   "cell_type": "code",
   "execution_count": 29,
   "id": "a494ee13-8ab3-4ac5-bd62-ed52c0afa124",
   "metadata": {},
   "outputs": [
    {
     "data": {
      "text/plain": [
       "False"
      ]
     },
     "execution_count": 29,
     "metadata": {},
     "output_type": "execute_result"
    }
   ],
   "source": [
    "set1.issubset(set2)"
   ]
  },
  {
   "cell_type": "code",
   "execution_count": 30,
   "id": "c7e51fcb-fe10-455a-a181-6e41d83d7057",
   "metadata": {},
   "outputs": [],
   "source": [
    "set3={1,2,3,4}"
   ]
  },
  {
   "cell_type": "code",
   "execution_count": 31,
   "id": "8772c5c9-23cd-41de-aa22-1b3700d53ea5",
   "metadata": {},
   "outputs": [],
   "source": [
    "set4={1,2,3,4,5,6,7}"
   ]
  },
  {
   "cell_type": "code",
   "execution_count": 32,
   "id": "b3132421-3abc-47ae-a066-c56f77bc1985",
   "metadata": {},
   "outputs": [
    {
     "data": {
      "text/plain": [
       "True"
      ]
     },
     "execution_count": 32,
     "metadata": {},
     "output_type": "execute_result"
    }
   ],
   "source": [
    "set3.issubset(set4)"
   ]
  },
  {
   "cell_type": "code",
   "execution_count": 33,
   "id": "b6714b15-699a-4419-bca4-409c1758b3a1",
   "metadata": {},
   "outputs": [
    {
     "data": {
      "text/plain": [
       "False"
      ]
     },
     "execution_count": 33,
     "metadata": {},
     "output_type": "execute_result"
    }
   ],
   "source": [
    "set4.issubset(set3)"
   ]
  },
  {
   "cell_type": "code",
   "execution_count": 34,
   "id": "9d8dd2d0-0091-40bf-9ef2-496c258e60b2",
   "metadata": {},
   "outputs": [
    {
     "data": {
      "text/plain": [
       "True"
      ]
     },
     "execution_count": 34,
     "metadata": {},
     "output_type": "execute_result"
    }
   ],
   "source": [
    "set4.issuperset(set3)"
   ]
  },
  {
   "cell_type": "code",
   "execution_count": 35,
   "id": "48dd9af4-602f-488b-8217-631ab3562d50",
   "metadata": {},
   "outputs": [
    {
     "data": {
      "text/plain": [
       "False"
      ]
     },
     "execution_count": 35,
     "metadata": {},
     "output_type": "execute_result"
    }
   ],
   "source": [
    "set3.isdisjoint(set4)"
   ]
  },
  {
   "cell_type": "code",
   "execution_count": 37,
   "id": "061bd806-292b-4e1a-b303-16203b9183c2",
   "metadata": {},
   "outputs": [
    {
     "data": {
      "text/plain": [
       "False"
      ]
     },
     "execution_count": 37,
     "metadata": {},
     "output_type": "execute_result"
    }
   ],
   "source": [
    "set4.isdisjoint(set3)"
   ]
  },
  {
   "cell_type": "code",
   "execution_count": 38,
   "id": "e2a7fa61-677e-4deb-bc75-3de814d4eb96",
   "metadata": {},
   "outputs": [
    {
     "data": {
      "text/plain": [
       "False"
      ]
     },
     "execution_count": 38,
     "metadata": {},
     "output_type": "execute_result"
    }
   ],
   "source": [
    "set1.isdisjoint(set2)"
   ]
  },
  {
   "cell_type": "code",
   "execution_count": 39,
   "id": "d73182c0-691a-4a18-9562-69ef7136e4f0",
   "metadata": {},
   "outputs": [
    {
     "data": {
      "text/plain": [
       "False"
      ]
     },
     "execution_count": 39,
     "metadata": {},
     "output_type": "execute_result"
    }
   ],
   "source": [
    "set2.isdisjoint(set1)"
   ]
  },
  {
   "cell_type": "code",
   "execution_count": 40,
   "id": "23a44027-866a-4bd6-949b-e761fb30c7df",
   "metadata": {},
   "outputs": [],
   "source": [
    "set1.discard(set2)"
   ]
  },
  {
   "cell_type": "code",
   "execution_count": 41,
   "id": "075c6abe-ad9c-45e5-9ce5-2a70d6520926",
   "metadata": {},
   "outputs": [
    {
     "data": {
      "text/plain": [
       "{1, 35, 44, 5, 69, 74, 83, 'apple'}"
      ]
     },
     "execution_count": 41,
     "metadata": {},
     "output_type": "execute_result"
    }
   ],
   "source": [
    "set1"
   ]
  },
  {
   "cell_type": "code",
   "execution_count": 42,
   "id": "79d1a703-e9ea-4039-8498-f3264ec1c6e2",
   "metadata": {},
   "outputs": [
    {
     "ename": "TypeError",
     "evalue": "'set' object is not subscriptable",
     "output_type": "error",
     "traceback": [
      "\u001b[1;31m---------------------------------------------------------------------------\u001b[0m",
      "\u001b[1;31mTypeError\u001b[0m                                 Traceback (most recent call last)",
      "Cell \u001b[1;32mIn[42], line 1\u001b[0m\n\u001b[1;32m----> 1\u001b[0m set1[\u001b[38;5;241m0\u001b[39m]\n",
      "\u001b[1;31mTypeError\u001b[0m: 'set' object is not subscriptable"
     ]
    }
   ],
   "source": [
    "set1[0]"
   ]
  },
  {
   "cell_type": "code",
   "execution_count": 29,
   "id": "38857360-9f34-41fd-828f-99bb11d51a4a",
   "metadata": {},
   "outputs": [
    {
     "name": "stdout",
     "output_type": "stream",
     "text": [
      "apple\n",
      "12\n",
      "55.5\n",
      "True\n",
      "(12+44j)\n"
     ]
    }
   ],
   "source": [
    "for value in list1:\n",
    "    print(value)"
   ]
  },
  {
   "cell_type": "code",
   "execution_count": 36,
   "id": "95ccf45a-2b01-4430-b6bf-4ff8cbc4508c",
   "metadata": {},
   "outputs": [
    {
     "name": "stdout",
     "output_type": "stream",
     "text": [
      "12\n",
      "True\n"
     ]
    }
   ],
   "source": [
    "for value in range(1,5,2):\n",
    "    print(list1[value])"
   ]
  },
  {
   "cell_type": "code",
   "execution_count": null,
   "id": "e510c40a-9639-4638-a7e7-9d90460c88a4",
   "metadata": {},
   "outputs": [],
   "source": [
    "list"
   ]
  },
  {
   "cell_type": "code",
   "execution_count": 49,
   "id": "c7ac09de-7eea-426b-8500-7bf2e2a35a77",
   "metadata": {},
   "outputs": [
    {
     "name": "stdout",
     "output_type": "stream",
     "text": [
      "1\n",
      "22\n",
      "333\n",
      "4444\n",
      "55555\n"
     ]
    }
   ],
   "source": [
    "for row in range(1,6):\n",
    "    for col in range(0,row):\n",
    "        print(row,end=\"\")\n",
    "    print()   "
   ]
  },
  {
   "cell_type": "code",
   "execution_count": 58,
   "id": "2490b418-1b6d-489e-bb29-5237a08d226a",
   "metadata": {},
   "outputs": [
    {
     "name": "stdout",
     "output_type": "stream",
     "text": [
      "1 1 1 1 1 \n",
      "2 2 2 2 \n",
      "3 3 3 \n",
      "4 4 \n",
      "5 \n"
     ]
    }
   ],
   "source": [
    "for row in range(1,6):\n",
    "    for col in range(6,row,-1):\n",
    "        print(row,end=\" \")\n",
    "    print()"
   ]
  },
  {
   "cell_type": "code",
   "execution_count": 66,
   "id": "0e33a119-7df8-4cc9-91a5-493ba9bad82a",
   "metadata": {},
   "outputs": [
    {
     "name": "stdout",
     "output_type": "stream",
     "text": [
      "5 5 5 5 5 \n",
      "5 5 5 5 \n",
      "5 5 5 \n",
      "5 5 \n",
      "5 \n"
     ]
    }
   ],
   "source": [
    "for row in range(5):\n",
    "    for col in range(5,row,-1):\n",
    "        print(5,end=\" \")\n",
    "    print()"
   ]
  },
  {
   "cell_type": "code",
   "execution_count": 11,
   "id": "4e5b2507-0c4f-4d84-860f-535cf3ba0bcb",
   "metadata": {},
   "outputs": [
    {
     "name": "stdout",
     "output_type": "stream",
     "text": [
      "1500\n",
      "1505\n",
      "1510\n",
      "1512\n",
      "1515\n",
      "1519\n",
      "1520\n",
      "1525\n",
      "1526\n",
      "1530\n",
      "1533\n",
      "1535\n",
      "1540\n",
      "1545\n",
      "1547\n",
      "1550\n",
      "1554\n",
      "1555\n",
      "1560\n",
      "1561\n",
      "1565\n",
      "1568\n",
      "1570\n",
      "1575\n",
      "1580\n",
      "1582\n",
      "1585\n",
      "1589\n",
      "1590\n",
      "1595\n",
      "1596\n",
      "1600\n",
      "1603\n",
      "1605\n",
      "1610\n",
      "1615\n",
      "1617\n",
      "1620\n",
      "1624\n",
      "1625\n",
      "1630\n",
      "1631\n",
      "1635\n",
      "1638\n",
      "1640\n",
      "1645\n",
      "1650\n",
      "1652\n",
      "1655\n",
      "1659\n",
      "1660\n",
      "1665\n",
      "1666\n",
      "1670\n",
      "1673\n",
      "1675\n",
      "1680\n",
      "1685\n",
      "1687\n",
      "1690\n",
      "1694\n",
      "1695\n",
      "1700\n",
      "1701\n",
      "1705\n",
      "1708\n",
      "1710\n",
      "1715\n",
      "1720\n",
      "1722\n",
      "1725\n",
      "1729\n",
      "1730\n",
      "1735\n",
      "1736\n",
      "1740\n",
      "1743\n",
      "1745\n",
      "1750\n",
      "1755\n",
      "1757\n",
      "1760\n",
      "1764\n",
      "1765\n",
      "1770\n",
      "1771\n",
      "1775\n",
      "1778\n",
      "1780\n",
      "1785\n",
      "1790\n",
      "1792\n",
      "1795\n",
      "1799\n",
      "1800\n",
      "1805\n",
      "1806\n",
      "1810\n",
      "1813\n",
      "1815\n",
      "1820\n",
      "1825\n",
      "1827\n",
      "1830\n",
      "1834\n",
      "1835\n",
      "1840\n",
      "1841\n",
      "1845\n",
      "1848\n",
      "1850\n",
      "1855\n",
      "1860\n",
      "1862\n",
      "1865\n",
      "1869\n",
      "1870\n",
      "1875\n",
      "1876\n",
      "1880\n",
      "1883\n",
      "1885\n",
      "1890\n",
      "1895\n",
      "1897\n",
      "1900\n",
      "1904\n",
      "1905\n",
      "1910\n",
      "1911\n",
      "1915\n",
      "1918\n",
      "1920\n",
      "1925\n",
      "1930\n",
      "1932\n",
      "1935\n",
      "1939\n",
      "1940\n",
      "1945\n",
      "1946\n",
      "1950\n",
      "1953\n",
      "1955\n",
      "1960\n",
      "1965\n",
      "1967\n",
      "1970\n",
      "1974\n",
      "1975\n",
      "1980\n",
      "1981\n",
      "1985\n",
      "1988\n",
      "1990\n",
      "1995\n",
      "2000\n",
      "2002\n",
      "2005\n",
      "2009\n",
      "2010\n",
      "2015\n",
      "2016\n",
      "2020\n",
      "2023\n",
      "2025\n",
      "2030\n",
      "2035\n",
      "2037\n",
      "2040\n",
      "2044\n",
      "2045\n",
      "2050\n",
      "2051\n",
      "2055\n",
      "2058\n",
      "2060\n",
      "2065\n",
      "2070\n",
      "2072\n",
      "2075\n",
      "2079\n",
      "2080\n",
      "2085\n",
      "2086\n",
      "2090\n",
      "2093\n",
      "2095\n",
      "2100\n",
      "2105\n",
      "2107\n",
      "2110\n",
      "2114\n",
      "2115\n",
      "2120\n",
      "2121\n",
      "2125\n",
      "2128\n",
      "2130\n",
      "2135\n",
      "2140\n",
      "2142\n",
      "2145\n",
      "2149\n",
      "2150\n",
      "2155\n",
      "2156\n",
      "2160\n",
      "2163\n",
      "2165\n",
      "2170\n",
      "2175\n",
      "2177\n",
      "2180\n",
      "2184\n",
      "2185\n",
      "2190\n",
      "2191\n",
      "2195\n",
      "2198\n",
      "2200\n",
      "2205\n",
      "2210\n",
      "2212\n",
      "2215\n",
      "2219\n",
      "2220\n",
      "2225\n",
      "2226\n",
      "2230\n",
      "2233\n",
      "2235\n",
      "2240\n",
      "2245\n",
      "2247\n",
      "2250\n",
      "2254\n",
      "2255\n",
      "2260\n",
      "2261\n",
      "2265\n",
      "2268\n",
      "2270\n",
      "2275\n",
      "2280\n",
      "2282\n",
      "2285\n",
      "2289\n",
      "2290\n",
      "2295\n",
      "2296\n",
      "2300\n",
      "2303\n",
      "2305\n",
      "2310\n",
      "2315\n",
      "2317\n",
      "2320\n",
      "2324\n",
      "2325\n",
      "2330\n",
      "2331\n",
      "2335\n",
      "2338\n",
      "2340\n",
      "2345\n",
      "2350\n",
      "2352\n",
      "2355\n",
      "2359\n",
      "2360\n",
      "2365\n",
      "2366\n",
      "2370\n",
      "2373\n",
      "2375\n",
      "2380\n",
      "2385\n",
      "2387\n",
      "2390\n",
      "2394\n",
      "2395\n",
      "2400\n",
      "2401\n",
      "2405\n",
      "2408\n",
      "2410\n",
      "2415\n",
      "2420\n",
      "2422\n",
      "2425\n",
      "2429\n",
      "2430\n",
      "2435\n",
      "2436\n",
      "2440\n",
      "2443\n",
      "2445\n",
      "2450\n",
      "2455\n",
      "2457\n",
      "2460\n",
      "2464\n",
      "2465\n",
      "2470\n",
      "2471\n",
      "2475\n",
      "2478\n",
      "2480\n",
      "2485\n",
      "2490\n",
      "2492\n",
      "2495\n",
      "2499\n",
      "2500\n",
      "2505\n",
      "2506\n",
      "2510\n",
      "2513\n",
      "2515\n",
      "2520\n",
      "2525\n",
      "2527\n",
      "2530\n",
      "2534\n",
      "2535\n",
      "2540\n",
      "2541\n",
      "2545\n",
      "2548\n",
      "2550\n",
      "2555\n",
      "2560\n",
      "2562\n",
      "2565\n",
      "2569\n",
      "2570\n",
      "2575\n",
      "2576\n",
      "2580\n",
      "2583\n",
      "2585\n",
      "2590\n",
      "2595\n",
      "2597\n",
      "2600\n",
      "2604\n",
      "2605\n",
      "2610\n",
      "2611\n",
      "2615\n",
      "2618\n",
      "2620\n",
      "2625\n",
      "2630\n",
      "2632\n",
      "2635\n",
      "2639\n",
      "2640\n",
      "2645\n",
      "2646\n",
      "2650\n",
      "2653\n",
      "2655\n",
      "2660\n",
      "2665\n",
      "2667\n",
      "2670\n",
      "2674\n",
      "2675\n",
      "2680\n",
      "2681\n",
      "2685\n",
      "2688\n",
      "2690\n",
      "2695\n",
      "2700\n"
     ]
    }
   ],
   "source": [
    "for value in range(1500,2701):\n",
    "   if value %7==0 or value %5==0:\n",
    "        print(value)"
   ]
  },
  {
   "cell_type": "code",
   "execution_count": 9,
   "id": "1379b0f7-b45d-4bc6-a303-6a0009ad2530",
   "metadata": {},
   "outputs": [
    {
     "data": {
      "text/plain": [
       "0"
      ]
     },
     "execution_count": 9,
     "metadata": {},
     "output_type": "execute_result"
    }
   ],
   "source": [
    "1855%7"
   ]
  },
  {
   "cell_type": "code",
   "execution_count": 27,
   "id": "cf2dbf63-f80b-4149-af42-9d838fa656c2",
   "metadata": {},
   "outputs": [
    {
     "name": "stdout",
     "output_type": "stream",
     "text": [
      "[1505, 1540, 1575, 1610, 1645, 1680, 1715, 1750, 1785, 1820, 1855, 1890, 1925, 1960, 1995, 2030, 2065, 2100, 2135, 2170, 2205, 2240, 2275, 2310, 2345, 2380, 2415, 2450, 2485, 2520, 2555, 2590, 2625, 2660, 2695]\n",
      "[1500, 1501, 1502, 1503, 1504, 1506, 1507, 1508, 1509, 1510, 1511, 1512, 1513, 1514, 1515, 1516, 1517, 1518, 1519, 1520, 1521, 1522, 1523, 1524, 1525, 1526, 1527, 1528, 1529, 1530, 1531, 1532, 1533, 1534, 1535, 1536, 1537, 1538, 1539, 1541, 1542, 1543, 1544, 1545, 1546, 1547, 1548, 1549, 1550, 1551, 1552, 1553, 1554, 1555, 1556, 1557, 1558, 1559, 1560, 1561, 1562, 1563, 1564, 1565, 1566, 1567, 1568, 1569, 1570, 1571, 1572, 1573, 1574, 1576, 1577, 1578, 1579, 1580, 1581, 1582, 1583, 1584, 1585, 1586, 1587, 1588, 1589, 1590, 1591, 1592, 1593, 1594, 1595, 1596, 1597, 1598, 1599, 1600, 1601, 1602, 1603, 1604, 1605, 1606, 1607, 1608, 1609, 1611, 1612, 1613, 1614, 1615, 1616, 1617, 1618, 1619, 1620, 1621, 1622, 1623, 1624, 1625, 1626, 1627, 1628, 1629, 1630, 1631, 1632, 1633, 1634, 1635, 1636, 1637, 1638, 1639, 1640, 1641, 1642, 1643, 1644, 1646, 1647, 1648, 1649, 1650, 1651, 1652, 1653, 1654, 1655, 1656, 1657, 1658, 1659, 1660, 1661, 1662, 1663, 1664, 1665, 1666, 1667, 1668, 1669, 1670, 1671, 1672, 1673, 1674, 1675, 1676, 1677, 1678, 1679, 1681, 1682, 1683, 1684, 1685, 1686, 1687, 1688, 1689, 1690, 1691, 1692, 1693, 1694, 1695, 1696, 1697, 1698, 1699, 1700, 1701, 1702, 1703, 1704, 1705, 1706, 1707, 1708, 1709, 1710, 1711, 1712, 1713, 1714, 1716, 1717, 1718, 1719, 1720, 1721, 1722, 1723, 1724, 1725, 1726, 1727, 1728, 1729, 1730, 1731, 1732, 1733, 1734, 1735, 1736, 1737, 1738, 1739, 1740, 1741, 1742, 1743, 1744, 1745, 1746, 1747, 1748, 1749, 1751, 1752, 1753, 1754, 1755, 1756, 1757, 1758, 1759, 1760, 1761, 1762, 1763, 1764, 1765, 1766, 1767, 1768, 1769, 1770, 1771, 1772, 1773, 1774, 1775, 1776, 1777, 1778, 1779, 1780, 1781, 1782, 1783, 1784, 1786, 1787, 1788, 1789, 1790, 1791, 1792, 1793, 1794, 1795, 1796, 1797, 1798, 1799, 1800, 1801, 1802, 1803, 1804, 1805, 1806, 1807, 1808, 1809, 1810, 1811, 1812, 1813, 1814, 1815, 1816, 1817, 1818, 1819, 1821, 1822, 1823, 1824, 1825, 1826, 1827, 1828, 1829, 1830, 1831, 1832, 1833, 1834, 1835, 1836, 1837, 1838, 1839, 1840, 1841, 1842, 1843, 1844, 1845, 1846, 1847, 1848, 1849, 1850, 1851, 1852, 1853, 1854, 1856, 1857, 1858, 1859, 1860, 1861, 1862, 1863, 1864, 1865, 1866, 1867, 1868, 1869, 1870, 1871, 1872, 1873, 1874, 1875, 1876, 1877, 1878, 1879, 1880, 1881, 1882, 1883, 1884, 1885, 1886, 1887, 1888, 1889, 1891, 1892, 1893, 1894, 1895, 1896, 1897, 1898, 1899, 1900, 1901, 1902, 1903, 1904, 1905, 1906, 1907, 1908, 1909, 1910, 1911, 1912, 1913, 1914, 1915, 1916, 1917, 1918, 1919, 1920, 1921, 1922, 1923, 1924, 1926, 1927, 1928, 1929, 1930, 1931, 1932, 1933, 1934, 1935, 1936, 1937, 1938, 1939, 1940, 1941, 1942, 1943, 1944, 1945, 1946, 1947, 1948, 1949, 1950, 1951, 1952, 1953, 1954, 1955, 1956, 1957, 1958, 1959, 1961, 1962, 1963, 1964, 1965, 1966, 1967, 1968, 1969, 1970, 1971, 1972, 1973, 1974, 1975, 1976, 1977, 1978, 1979, 1980, 1981, 1982, 1983, 1984, 1985, 1986, 1987, 1988, 1989, 1990, 1991, 1992, 1993, 1994, 1996, 1997, 1998, 1999, 2000, 2001, 2002, 2003, 2004, 2005, 2006, 2007, 2008, 2009, 2010, 2011, 2012, 2013, 2014, 2015, 2016, 2017, 2018, 2019, 2020, 2021, 2022, 2023, 2024, 2025, 2026, 2027, 2028, 2029, 2031, 2032, 2033, 2034, 2035, 2036, 2037, 2038, 2039, 2040, 2041, 2042, 2043, 2044, 2045, 2046, 2047, 2048, 2049, 2050, 2051, 2052, 2053, 2054, 2055, 2056, 2057, 2058, 2059, 2060, 2061, 2062, 2063, 2064, 2066, 2067, 2068, 2069, 2070, 2071, 2072, 2073, 2074, 2075, 2076, 2077, 2078, 2079, 2080, 2081, 2082, 2083, 2084, 2085, 2086, 2087, 2088, 2089, 2090, 2091, 2092, 2093, 2094, 2095, 2096, 2097, 2098, 2099, 2101, 2102, 2103, 2104, 2105, 2106, 2107, 2108, 2109, 2110, 2111, 2112, 2113, 2114, 2115, 2116, 2117, 2118, 2119, 2120, 2121, 2122, 2123, 2124, 2125, 2126, 2127, 2128, 2129, 2130, 2131, 2132, 2133, 2134, 2136, 2137, 2138, 2139, 2140, 2141, 2142, 2143, 2144, 2145, 2146, 2147, 2148, 2149, 2150, 2151, 2152, 2153, 2154, 2155, 2156, 2157, 2158, 2159, 2160, 2161, 2162, 2163, 2164, 2165, 2166, 2167, 2168, 2169, 2171, 2172, 2173, 2174, 2175, 2176, 2177, 2178, 2179, 2180, 2181, 2182, 2183, 2184, 2185, 2186, 2187, 2188, 2189, 2190, 2191, 2192, 2193, 2194, 2195, 2196, 2197, 2198, 2199, 2200, 2201, 2202, 2203, 2204, 2206, 2207, 2208, 2209, 2210, 2211, 2212, 2213, 2214, 2215, 2216, 2217, 2218, 2219, 2220, 2221, 2222, 2223, 2224, 2225, 2226, 2227, 2228, 2229, 2230, 2231, 2232, 2233, 2234, 2235, 2236, 2237, 2238, 2239, 2241, 2242, 2243, 2244, 2245, 2246, 2247, 2248, 2249, 2250, 2251, 2252, 2253, 2254, 2255, 2256, 2257, 2258, 2259, 2260, 2261, 2262, 2263, 2264, 2265, 2266, 2267, 2268, 2269, 2270, 2271, 2272, 2273, 2274, 2276, 2277, 2278, 2279, 2280, 2281, 2282, 2283, 2284, 2285, 2286, 2287, 2288, 2289, 2290, 2291, 2292, 2293, 2294, 2295, 2296, 2297, 2298, 2299, 2300, 2301, 2302, 2303, 2304, 2305, 2306, 2307, 2308, 2309, 2311, 2312, 2313, 2314, 2315, 2316, 2317, 2318, 2319, 2320, 2321, 2322, 2323, 2324, 2325, 2326, 2327, 2328, 2329, 2330, 2331, 2332, 2333, 2334, 2335, 2336, 2337, 2338, 2339, 2340, 2341, 2342, 2343, 2344, 2346, 2347, 2348, 2349, 2350, 2351, 2352, 2353, 2354, 2355, 2356, 2357, 2358, 2359, 2360, 2361, 2362, 2363, 2364, 2365, 2366, 2367, 2368, 2369, 2370, 2371, 2372, 2373, 2374, 2375, 2376, 2377, 2378, 2379, 2381, 2382, 2383, 2384, 2385, 2386, 2387, 2388, 2389, 2390, 2391, 2392, 2393, 2394, 2395, 2396, 2397, 2398, 2399, 2400, 2401, 2402, 2403, 2404, 2405, 2406, 2407, 2408, 2409, 2410, 2411, 2412, 2413, 2414, 2416, 2417, 2418, 2419, 2420, 2421, 2422, 2423, 2424, 2425, 2426, 2427, 2428, 2429, 2430, 2431, 2432, 2433, 2434, 2435, 2436, 2437, 2438, 2439, 2440, 2441, 2442, 2443, 2444, 2445, 2446, 2447, 2448, 2449, 2451, 2452, 2453, 2454, 2455, 2456, 2457, 2458, 2459, 2460, 2461, 2462, 2463, 2464, 2465, 2466, 2467, 2468, 2469, 2470, 2471, 2472, 2473, 2474, 2475, 2476, 2477, 2478, 2479, 2480, 2481, 2482, 2483, 2484, 2486, 2487, 2488, 2489, 2490, 2491, 2492, 2493, 2494, 2495, 2496, 2497, 2498, 2499, 2500, 2501, 2502, 2503, 2504, 2505, 2506, 2507, 2508, 2509, 2510, 2511, 2512, 2513, 2514, 2515, 2516, 2517, 2518, 2519, 2521, 2522, 2523, 2524, 2525, 2526, 2527, 2528, 2529, 2530, 2531, 2532, 2533, 2534, 2535, 2536, 2537, 2538, 2539, 2540, 2541, 2542, 2543, 2544, 2545, 2546, 2547, 2548, 2549, 2550, 2551, 2552, 2553, 2554, 2556, 2557, 2558, 2559, 2560, 2561, 2562, 2563, 2564, 2565, 2566, 2567, 2568, 2569, 2570, 2571, 2572, 2573, 2574, 2575, 2576, 2577, 2578, 2579, 2580, 2581, 2582, 2583, 2584, 2585, 2586, 2587, 2588, 2589, 2591, 2592, 2593, 2594, 2595, 2596, 2597, 2598, 2599, 2600, 2601, 2602, 2603, 2604, 2605, 2606, 2607, 2608, 2609, 2610, 2611, 2612, 2613, 2614, 2615, 2616, 2617, 2618, 2619, 2620, 2621, 2622, 2623, 2624, 2626, 2627, 2628, 2629, 2630, 2631, 2632, 2633, 2634, 2635, 2636, 2637, 2638, 2639, 2640, 2641, 2642, 2643, 2644, 2645, 2646, 2647, 2648, 2649, 2650, 2651, 2652, 2653, 2654, 2655, 2656, 2657, 2658, 2659, 2661, 2662, 2663, 2664, 2665, 2666, 2667, 2668, 2669, 2670, 2671, 2672, 2673, 2674, 2675, 2676, 2677, 2678, 2679, 2680, 2681, 2682, 2683, 2684, 2685, 2686, 2687, 2688, 2689, 2690, 2691, 2692, 2693, 2694, 2696, 2697, 2698, 2699, 2700]\n"
     ]
    }
   ],
   "source": [
    "list1=[]\n",
    "list4=[]\n",
    "for value in range(1500,2701):\n",
    "    if value %7==0 and  value %5==0:\n",
    "        list1.append(value)\n",
    "    else:\n",
    "        list4.append(value)\n",
    "print(list1)\n",
    "print(list4)"
   ]
  },
  {
   "cell_type": "code",
   "execution_count": 18,
   "id": "4fcec756-90f5-4a90-827d-4b9571ebdc99",
   "metadata": {},
   "outputs": [],
   "source": [
    "list1=[\"apple\",12,45.3,87+66j,True]"
   ]
  },
  {
   "cell_type": "code",
   "execution_count": 19,
   "id": "ea2d6052-7bc8-4508-a4bb-39825e57f252",
   "metadata": {},
   "outputs": [
    {
     "data": {
      "text/plain": [
       "list"
      ]
     },
     "execution_count": 19,
     "metadata": {},
     "output_type": "execute_result"
    }
   ],
   "source": [
    "type(list1)"
   ]
  },
  {
   "cell_type": "code",
   "execution_count": 20,
   "id": "c0bd8dcb-c2f0-401d-a7c2-7367ca2ee6d4",
   "metadata": {},
   "outputs": [
    {
     "data": {
      "text/plain": [
       "['__add__',\n",
       " '__class__',\n",
       " '__class_getitem__',\n",
       " '__contains__',\n",
       " '__delattr__',\n",
       " '__delitem__',\n",
       " '__dir__',\n",
       " '__doc__',\n",
       " '__eq__',\n",
       " '__format__',\n",
       " '__ge__',\n",
       " '__getattribute__',\n",
       " '__getitem__',\n",
       " '__getstate__',\n",
       " '__gt__',\n",
       " '__hash__',\n",
       " '__iadd__',\n",
       " '__imul__',\n",
       " '__init__',\n",
       " '__init_subclass__',\n",
       " '__iter__',\n",
       " '__le__',\n",
       " '__len__',\n",
       " '__lt__',\n",
       " '__mul__',\n",
       " '__ne__',\n",
       " '__new__',\n",
       " '__reduce__',\n",
       " '__reduce_ex__',\n",
       " '__repr__',\n",
       " '__reversed__',\n",
       " '__rmul__',\n",
       " '__setattr__',\n",
       " '__setitem__',\n",
       " '__sizeof__',\n",
       " '__str__',\n",
       " '__subclasshook__',\n",
       " 'append',\n",
       " 'clear',\n",
       " 'copy',\n",
       " 'count',\n",
       " 'extend',\n",
       " 'index',\n",
       " 'insert',\n",
       " 'pop',\n",
       " 'remove',\n",
       " 'reverse',\n",
       " 'sort']"
      ]
     },
     "execution_count": 20,
     "metadata": {},
     "output_type": "execute_result"
    }
   ],
   "source": [
    "dir(list)"
   ]
  },
  {
   "cell_type": "code",
   "execution_count": 21,
   "id": "70658741-c0df-4b4b-80b7-bad067f08b7a",
   "metadata": {},
   "outputs": [],
   "source": [
    "list1.append(00)"
   ]
  },
  {
   "cell_type": "code",
   "execution_count": 22,
   "id": "38c8a861-6dc4-4a29-bc29-cd564a425b76",
   "metadata": {},
   "outputs": [
    {
     "data": {
      "text/plain": [
       "['apple', 12, 45.3, (87+66j), True, 0]"
      ]
     },
     "execution_count": 22,
     "metadata": {},
     "output_type": "execute_result"
    }
   ],
   "source": [
    "list1"
   ]
  },
  {
   "cell_type": "code",
   "execution_count": 31,
   "id": "21282ded-a130-4204-8c81-5f4a3a0cf124",
   "metadata": {},
   "outputs": [],
   "source": [
    "list5=[0,1,2,3,4,5,6]"
   ]
  },
  {
   "cell_type": "code",
   "execution_count": 32,
   "id": "17f87696-feaf-45a0-b7ac-c99546dd7dd0",
   "metadata": {},
   "outputs": [
    {
     "data": {
      "text/plain": [
       "[0, 1, 2, 3, 4, 5, 6]"
      ]
     },
     "execution_count": 32,
     "metadata": {},
     "output_type": "execute_result"
    }
   ],
   "source": [
    "list5"
   ]
  },
  {
   "cell_type": "code",
   "execution_count": 44,
   "id": "489b14dc-0a8d-4f44-8366-c785421d2568",
   "metadata": {},
   "outputs": [
    {
     "name": "stdout",
     "output_type": "stream",
     "text": [
      "0\n",
      "1\n",
      "2\n",
      "4\n",
      "5\n"
     ]
    }
   ],
   "source": [
    "for value in range(0,7):\n",
    "    if value ==3 or value ==6:\n",
    "        continue\n",
    "    print(value)\n",
    "    "
   ]
  },
  {
   "cell_type": "code",
   "execution_count": 57,
   "id": "b877b4bd-fd7d-422b-ac38-5bdf3dc86a60",
   "metadata": {},
   "outputs": [
    {
     "name": "stdin",
     "output_type": "stream",
     "text": [
      "enter a number 64\n"
     ]
    },
    {
     "name": "stdout",
     "output_type": "stream",
     "text": [
      "0\n",
      "1\n",
      "2\n",
      "3\n",
      "4\n",
      "5\n",
      "6\n",
      "7\n",
      "8\n",
      "9\n",
      "10\n",
      "11\n",
      "12\n",
      "13\n",
      "14\n",
      "15\n",
      "16\n",
      "17\n",
      "18\n",
      "19\n",
      "20\n",
      "21\n",
      "22\n",
      "23\n",
      "24\n",
      "25\n",
      "26\n",
      "27\n",
      "28\n",
      "29\n",
      "30\n",
      "31\n",
      "32\n",
      "33\n",
      "34\n",
      "35\n",
      "36\n",
      "37\n",
      "38\n",
      "39\n",
      "40\n",
      "41\n",
      "42\n",
      "43\n",
      "44\n",
      "45\n",
      "46\n",
      "47\n",
      "48\n",
      "49\n",
      "50\n",
      "51\n",
      "52\n",
      "53\n",
      "54\n",
      "55\n",
      "56\n",
      "57\n",
      "58\n",
      "59\n",
      "60\n",
      "61\n",
      "62\n",
      "63\n",
      "64\n"
     ]
    }
   ],
   "source": [
    "a=int(input(\"enter a number\"))\n",
    "for value in range(0,101):\n",
    "    if value==a+1:\n",
    "      break\n",
    "    print(value)"
   ]
  },
  {
   "cell_type": "code",
   "execution_count": 89,
   "id": "69c321ec-4622-42e2-a32f-13bf8bc7e2d5",
   "metadata": {},
   "outputs": [
    {
     "name": "stdin",
     "output_type": "stream",
     "text": [
      "enter a number apple5313\n"
     ]
    },
    {
     "ename": "ValueError",
     "evalue": "invalid literal for int() with base 10: 'apple5313'",
     "output_type": "error",
     "traceback": [
      "\u001b[1;31m---------------------------------------------------------------------------\u001b[0m",
      "\u001b[1;31mValueError\u001b[0m                                Traceback (most recent call last)",
      "Cell \u001b[1;32mIn[89], line 1\u001b[0m\n\u001b[1;32m----> 1\u001b[0m a\u001b[38;5;241m=\u001b[39m\u001b[38;5;28mint\u001b[39m(\u001b[38;5;28minput\u001b[39m(\u001b[38;5;124m\"\u001b[39m\u001b[38;5;124menter a number\u001b[39m\u001b[38;5;124m\"\u001b[39m))\n",
      "\u001b[1;31mValueError\u001b[0m: invalid literal for int() with base 10: 'apple5313'"
     ]
    }
   ],
   "source": [
    "a=int(input(\"enter a number\"))"
   ]
  },
  {
   "cell_type": "code",
   "execution_count": 52,
   "id": "ded330dd-73ca-47bb-b32c-a816d6d5e001",
   "metadata": {},
   "outputs": [
    {
     "data": {
      "text/plain": [
       "63"
      ]
     },
     "execution_count": 52,
     "metadata": {},
     "output_type": "execute_result"
    }
   ],
   "source": [
    "a"
   ]
  },
  {
   "cell_type": "code",
   "execution_count": 53,
   "id": "33249554-04e3-4289-aa56-96f2b3923589",
   "metadata": {},
   "outputs": [
    {
     "data": {
      "text/plain": [
       "int"
      ]
     },
     "execution_count": 53,
     "metadata": {},
     "output_type": "execute_result"
    }
   ],
   "source": [
    "type(a)"
   ]
  },
  {
   "cell_type": "code",
   "execution_count": 106,
   "id": "f5f73c34-3775-4c19-8026-3124ac5045bf",
   "metadata": {},
   "outputs": [
    {
     "name": "stdin",
     "output_type": "stream",
     "text": [
      "enter a string ssfgsgddhd\n"
     ]
    }
   ],
   "source": [
    "a=input(\"enter a string\")\n"
   ]
  },
  {
   "cell_type": "code",
   "execution_count": 91,
   "id": "08cfbf9c-061f-4eb9-8293-4edb359e2b0e",
   "metadata": {},
   "outputs": [
    {
     "data": {
      "text/plain": [
       "'apple12563'"
      ]
     },
     "execution_count": 91,
     "metadata": {},
     "output_type": "execute_result"
    }
   ],
   "source": [
    "a"
   ]
  },
  {
   "cell_type": "code",
   "execution_count": 92,
   "id": "fb9e8a16-6971-4f84-beb3-f2d2d1903d27",
   "metadata": {},
   "outputs": [
    {
     "name": "stdout",
     "output_type": "stream",
     "text": [
      "apple12563\n"
     ]
    }
   ],
   "source": [
    "print(a)"
   ]
  },
  {
   "cell_type": "code",
   "execution_count": 108,
   "id": "c12c7455-e189-48dc-9ad5-f930fa885bca",
   "metadata": {},
   "outputs": [
    {
     "name": "stdout",
     "output_type": "stream",
     "text": [
      "s\n",
      "s\n",
      "f\n",
      "g\n",
      "s\n",
      "g\n",
      "d\n",
      "d\n",
      "h\n",
      "d\n"
     ]
    }
   ],
   "source": [
    "for value in range(0,len(a)):\n",
    "    print(a[value])   "
   ]
  },
  {
   "cell_type": "code",
   "execution_count": 102,
   "id": "34717bcc-7dab-4e12-9906-45235812bc58",
   "metadata": {},
   "outputs": [
    {
     "name": "stdout",
     "output_type": "stream",
     "text": [
      "6\n",
      "3\n",
      "3\n"
     ]
    }
   ],
   "source": [
    "characters=0\n",
    "digits=0\n",
    "others=0\n",
    "for value in a:\n",
    "    if value.isalpha():\n",
    "        characters=characters+1\n",
    "    elif value.isdigit():\n",
    "        digits+=1\n",
    "    else:\n",
    "        others+=1\n",
    "print(characters)\n",
    "print(digits)\n",
    "print(others)"
   ]
  },
  {
   "cell_type": "code",
   "execution_count": 103,
   "id": "8dd9bb65-3174-4ce0-bee1-07f18a921608",
   "metadata": {},
   "outputs": [
    {
     "data": {
      "text/plain": [
       "False"
      ]
     },
     "execution_count": 103,
     "metadata": {},
     "output_type": "execute_result"
    }
   ],
   "source": [
    "a.isalpha()"
   ]
  },
  {
   "cell_type": "code",
   "execution_count": 104,
   "id": "2ece4fc7-18c5-48fa-aa1c-a40a82baa337",
   "metadata": {},
   "outputs": [
    {
     "data": {
      "text/plain": [
       "['__add__',\n",
       " '__class__',\n",
       " '__contains__',\n",
       " '__delattr__',\n",
       " '__dir__',\n",
       " '__doc__',\n",
       " '__eq__',\n",
       " '__format__',\n",
       " '__ge__',\n",
       " '__getattribute__',\n",
       " '__getitem__',\n",
       " '__getnewargs__',\n",
       " '__getstate__',\n",
       " '__gt__',\n",
       " '__hash__',\n",
       " '__init__',\n",
       " '__init_subclass__',\n",
       " '__iter__',\n",
       " '__le__',\n",
       " '__len__',\n",
       " '__lt__',\n",
       " '__mod__',\n",
       " '__mul__',\n",
       " '__ne__',\n",
       " '__new__',\n",
       " '__reduce__',\n",
       " '__reduce_ex__',\n",
       " '__repr__',\n",
       " '__rmod__',\n",
       " '__rmul__',\n",
       " '__setattr__',\n",
       " '__sizeof__',\n",
       " '__str__',\n",
       " '__subclasshook__',\n",
       " 'capitalize',\n",
       " 'casefold',\n",
       " 'center',\n",
       " 'count',\n",
       " 'encode',\n",
       " 'endswith',\n",
       " 'expandtabs',\n",
       " 'find',\n",
       " 'format',\n",
       " 'format_map',\n",
       " 'index',\n",
       " 'isalnum',\n",
       " 'isalpha',\n",
       " 'isascii',\n",
       " 'isdecimal',\n",
       " 'isdigit',\n",
       " 'isidentifier',\n",
       " 'islower',\n",
       " 'isnumeric',\n",
       " 'isprintable',\n",
       " 'isspace',\n",
       " 'istitle',\n",
       " 'isupper',\n",
       " 'join',\n",
       " 'ljust',\n",
       " 'lower',\n",
       " 'lstrip',\n",
       " 'maketrans',\n",
       " 'partition',\n",
       " 'removeprefix',\n",
       " 'removesuffix',\n",
       " 'replace',\n",
       " 'rfind',\n",
       " 'rindex',\n",
       " 'rjust',\n",
       " 'rpartition',\n",
       " 'rsplit',\n",
       " 'rstrip',\n",
       " 'split',\n",
       " 'splitlines',\n",
       " 'startswith',\n",
       " 'strip',\n",
       " 'swapcase',\n",
       " 'title',\n",
       " 'translate',\n",
       " 'upper',\n",
       " 'zfill']"
      ]
     },
     "execution_count": 104,
     "metadata": {},
     "output_type": "execute_result"
    }
   ],
   "source": [
    "dir(a)"
   ]
  },
  {
   "cell_type": "code",
   "execution_count": 7,
   "id": "fa37d342-6eea-4d82-9e5f-7857ae56a36f",
   "metadata": {},
   "outputs": [
    {
     "name": "stdout",
     "output_type": "stream",
     "text": [
      "I'm going to inject 12.000000 here.\n",
      "hai 3.000\n",
      "hello my name is 'pradeep' \n",
      " 'hari'\n"
     ]
    }
   ],
   "source": [
    "print(\"I'm going to inject %f here.\" %12)\n",
    "print(\"hai %5.3f\"%3)\n",
    "a=\"pradeep\"\n",
    "b=\"hari\"\n",
    "print(\"hello my name is %r \\n %r\"% (a,b))"
   ]
  },
  {
   "cell_type": "code",
   "execution_count": 10,
   "id": "6bc88042-449e-4fca-b0d3-80819a881e5b",
   "metadata": {},
   "outputs": [
    {
     "name": "stdout",
     "output_type": "stream",
     "text": [
      "I'm going to inject some text here, and more text here.\n",
      "12\n",
      "13\n"
     ]
    }
   ],
   "source": [
    "print(\"I'm going to inject %s text here, and %s text here.\"%('some','more'))\n",
    "a=12\n",
    "print(a)\n",
    "print(13)"
   ]
  },
  {
   "cell_type": "code",
   "execution_count": 11,
   "id": "e660b2ae-c98c-47d2-b0ce-cc34164198d8",
   "metadata": {},
   "outputs": [
    {
     "name": "stdout",
     "output_type": "stream",
     "text": [
      "I'm going to inject some text here,and more text here.\n"
     ]
    }
   ],
   "source": [
    "x,y='some','more'\n",
    "print(\"I'm going to inject %s text here,and %s text here.\"%(x,y))"
   ]
  },
  {
   "cell_type": "code",
   "execution_count": 15,
   "id": "dcb9f859-5ada-49eb-b4e7-9c1a34e834ed",
   "metadata": {},
   "outputs": [
    {
     "ename": "TypeError",
     "evalue": "cannot unpack non-iterable int object",
     "output_type": "error",
     "traceback": [
      "\u001b[1;31m---------------------------------------------------------------------------\u001b[0m",
      "\u001b[1;31mTypeError\u001b[0m                                 Traceback (most recent call last)",
      "Cell \u001b[1;32mIn[15], line 1\u001b[0m\n\u001b[1;32m----> 1\u001b[0m a,b\u001b[38;5;241m=\u001b[39m\u001b[38;5;241m10\u001b[39m\n",
      "\u001b[1;31mTypeError\u001b[0m: cannot unpack non-iterable int object"
     ]
    }
   ],
   "source": [
    "a,b=10"
   ]
  },
  {
   "cell_type": "code",
   "execution_count": 13,
   "id": "9730348e-68d6-4261-b7be-71e9805c5594",
   "metadata": {},
   "outputs": [
    {
     "data": {
      "text/plain": [
       "10"
      ]
     },
     "execution_count": 13,
     "metadata": {},
     "output_type": "execute_result"
    }
   ],
   "source": [
    "a"
   ]
  },
  {
   "cell_type": "code",
   "execution_count": 14,
   "id": "5aa2bb03-d1c5-4fd5-89a3-0b824765999c",
   "metadata": {},
   "outputs": [
    {
     "data": {
      "text/plain": [
       "67"
      ]
     },
     "execution_count": 14,
     "metadata": {},
     "output_type": "execute_result"
    }
   ],
   "source": [
    "b"
   ]
  },
  {
   "cell_type": "code",
   "execution_count": 1,
   "id": "572f0596-812a-4fda-bf3a-9171749ad76f",
   "metadata": {},
   "outputs": [
    {
     "name": "stdout",
     "output_type": "stream",
     "text": [
      "He said his name was Fred.\n",
      "He said his name was 'Fred'.\n",
      "'12'\n"
     ]
    }
   ],
   "source": [
    "print('He said his name was %s.' %'Fred')\n",
    "print('He said his name was %r.' %'Fred')\n",
    "print(\"%r\"%\"12\")"
   ]
  },
  {
   "cell_type": "code",
   "execution_count": 2,
   "id": "297246a5-6289-43e8-b5c0-039ee9b88ece",
   "metadata": {},
   "outputs": [
    {
     "name": "stdout",
     "output_type": "stream",
     "text": [
      "I once caught a fish this \tbig.\n",
      "I once caught a fish 'this \\tbig'.\n"
     ]
    }
   ],
   "source": [
    "print('I once caught a fish %s.' %'this \\tbig')\n",
    "print('I once caught a fish %r.' %'this \\tbig')\n"
   ]
  },
  {
   "cell_type": "code",
   "execution_count": 3,
   "id": "28b3bd4b-9ada-48e1-8eda-7ac4780b176b",
   "metadata": {},
   "outputs": [
    {
     "name": "stdout",
     "output_type": "stream",
     "text": [
      "I wrote 3.75 programs today.\n",
      "I wrote 3 programs today.\n"
     ]
    }
   ],
   "source": [
    "print('I wrote %s programs today.' %3.75)\n",
    "print('I wrote %d programs today.' %3.75)"
   ]
  },
  {
   "cell_type": "code",
   "execution_count": 10,
   "id": "5da2cc65-65c3-412a-b641-428dd6fc7ac5",
   "metadata": {},
   "outputs": [
    {
     "name": "stdout",
     "output_type": "stream",
     "text": [
      "Floating point numbers:  13.14\n"
     ]
    }
   ],
   "source": [
    "print('Floating point numbers: %6.2f' %(13.144))"
   ]
  },
  {
   "cell_type": "code",
   "execution_count": 5,
   "id": "2da7f051-6d0d-4c69-938d-71c1748e0a1b",
   "metadata": {},
   "outputs": [
    {
     "name": "stdout",
     "output_type": "stream",
     "text": [
      "Floating point numbers: 13\n"
     ]
    }
   ],
   "source": [
    "print('Floating point numbers: %1.0f' %(13.144))"
   ]
  },
  {
   "cell_type": "code",
   "execution_count": 13,
   "id": "ae3cece3-2880-433e-ad07-c4d530b685fb",
   "metadata": {},
   "outputs": [
    {
     "name": "stdout",
     "output_type": "stream",
     "text": [
      "Floating point numbers: 13.144\n"
     ]
    }
   ],
   "source": [
    "print('Floating point numbers: %1.3f' %(13.144))\n"
   ]
  },
  {
   "cell_type": "code",
   "execution_count": 14,
   "id": "a8153cf3-fc0d-4a72-a503-86fba8c251dd",
   "metadata": {},
   "outputs": [
    {
     "name": "stdout",
     "output_type": "stream",
     "text": [
      "First: hi!, Second: 3.142, Third: bye!\n"
     ]
    }
   ],
   "source": [
    "print('First: %s, Second: %5.3f, Third: %s' %('hi!',3.1415,'bye!'))"
   ]
  },
  {
   "cell_type": "code",
   "execution_count": 15,
   "id": "2f1939fa-fef5-4980-a5b1-6a961f5f7408",
   "metadata": {},
   "outputs": [
    {
     "name": "stdout",
     "output_type": "stream",
     "text": [
      "This is a string with an insert\n"
     ]
    }
   ],
   "source": [
    "print('This is a string with an {}'.format('insert'))\n"
   ]
  },
  {
   "cell_type": "code",
   "execution_count": 16,
   "id": "e9e04235-5532-42e0-a498-d58c3a43e880",
   "metadata": {},
   "outputs": [
    {
     "name": "stdout",
     "output_type": "stream",
     "text": [
      "The quick brown fox\n"
     ]
    }
   ],
   "source": [
    "print('The {2} {1} {0}'.format('fox','brown','quick'))"
   ]
  },
  {
   "cell_type": "code",
   "execution_count": 20,
   "id": "7d482d97-a468-4453-8dde-0543aad8caae",
   "metadata": {},
   "outputs": [
    {
     "name": "stdout",
     "output_type": "stream",
     "text": [
      "First Object: 1Second Object: Twoird Object: 12.3\n",
      "First Object: 34Second Object: aiird Object: 34\n"
     ]
    }
   ],
   "source": [
    "print('First Object: {a}Second Object: {b}ird Object: {c}'.\n",
    " format(a=1,b='Two',c=12.3))\n",
    "a=34\n",
    "b='hai'\n",
    "c=True\n",
    "print('First Object: {a}Second Object: {b}ird Object: {a}'.\n",
    " format(a=34,b='ai',c=34.5))"
   ]
  },
  {
   "cell_type": "code",
   "execution_count": 21,
   "id": "22f97305-6f57-4947-ad6c-00a24fd635d0",
   "metadata": {},
   "outputs": [
    {
     "name": "stdout",
     "output_type": "stream",
     "text": [
      "A penny saved is a penny earned.\n",
      "A penny saved is a penny earned.\n"
     ]
    }
   ],
   "source": [
    "print('A %s saved is a %s earned.' %('penny','penny'))\n",
    "# vs.\n",
    "print('A {p} saved is a {p} earned.'.format(p='penny'))\n"
   ]
  },
  {
   "cell_type": "code",
   "execution_count": 23,
   "id": "7283c4f1-4b63-43c8-900d-66a7dc8c83b3",
   "metadata": {},
   "outputs": [
    {
     "name": "stdout",
     "output_type": "stream",
     "text": [
      "Fruit    | Quantity\n",
      "Apples   |      3.0\n",
      "Oranges  |       10\n",
      "    1000 |        2\n"
     ]
    }
   ],
   "source": [
    "print('{0:8} | {1:8}'.format('Fruit', 'Quantity'))\n",
    "print('{0:8} | {1:8}'.format('Apples', 3.))\n",
    "print('{0:8} | {1:8}'.format('Oranges', 10))\n",
    "print('{0:8} | {1:8}'.format(1000,2))"
   ]
  },
  {
   "cell_type": "code",
   "execution_count": 25,
   "id": "a607b339-f938-4976-8a74-506f7c8000aa",
   "metadata": {},
   "outputs": [
    {
     "name": "stdout",
     "output_type": "stream",
     "text": [
      "Left     |  Center  |    Right\n",
      "11       |    22    |       33\n"
     ]
    }
   ],
   "source": [
    "print('{0:<8} | {1:^8} | {2:>8}'.format('Left','Center','Right'))\n",
    "print('{0:<8} | {1:^8} | {2:>8}'.format(11,22,33))\n"
   ]
  },
  {
   "cell_type": "code",
   "execution_count": 26,
   "id": "e71a173e-e4d1-46dd-be38-9620ade3c186",
   "metadata": {},
   "outputs": [
    {
     "name": "stdout",
     "output_type": "stream",
     "text": [
      "Left==== | -Center- | ...Right\n",
      "11====== | ---22--- | ......33\n"
     ]
    }
   ],
   "source": [
    "print('{0:=<8} | {1:-^8} | {2:.>8}'.format('Left','Center','Right'))\n",
    "print('{0:=<8} | {1:-^8} | {2:.>8}'.format(11,22,33))\n"
   ]
  },
  {
   "cell_type": "code",
   "execution_count": 27,
   "id": "524a5ef9-fdd9-4fa7-97c8-67e65137cd2c",
   "metadata": {},
   "outputs": [
    {
     "name": "stdout",
     "output_type": "stream",
     "text": [
      "This is my ten-character, two-decimal number:     13.58\n",
      "This is my ten-character, two-decimal number:12\n"
     ]
    }
   ],
   "source": [
    "print('This is my ten-character, two-decimal number:%10.2f' %13.579)\n",
    "print('This is my ten-character, two-decimal number:{1:s}'.format(13.579,'12'))"
   ]
  },
  {
   "cell_type": "code",
   "execution_count": 29,
   "id": "4aa45990-f371-4e2c-8252-2ce481b72b76",
   "metadata": {},
   "outputs": [
    {
     "name": "stdout",
     "output_type": "stream",
     "text": [
      "He said his name is Fred\n"
     ]
    }
   ],
   "source": [
    "name = 'Fred'\n",
    "print(f\"He said his name is {name}\")\n"
   ]
  },
  {
   "cell_type": "code",
   "execution_count": 30,
   "id": "a16a5b77-cca3-49bf-8cdf-214cb95db7d1",
   "metadata": {},
   "outputs": [
    {
     "name": "stdout",
     "output_type": "stream",
     "text": [
      "He said his name is '12.3'\n"
     ]
    }
   ],
   "source": [
    "name1='12.3'\n",
    "print(f\"He said his name is {name1!r}\")"
   ]
  },
  {
   "cell_type": "code",
   "execution_count": 33,
   "id": "067bf8fe-a756-489c-bc7e-128b8435110c",
   "metadata": {},
   "outputs": [
    {
     "name": "stdout",
     "output_type": "stream",
     "text": [
      "My 10 character, four decimal number is:   23.4568\n",
      "My 10 character, four decimal number is:   23.4568\n"
     ]
    }
   ],
   "source": [
    "num = 23.45678\n",
    "print(\"My 10 character, four decimal number is:{0:10.4f}\".format(num))\n",
    "print(f\"My 10 character, four decimal number is:{num:{10}.{6}}\")"
   ]
  },
  {
   "cell_type": "code",
   "execution_count": 34,
   "id": "e69e5c1b-9886-4b09-90f5-d54dde353750",
   "metadata": {},
   "outputs": [
    {
     "name": "stdout",
     "output_type": "stream",
     "text": [
      "My 10 character, four decimal number is:   23.4500\n",
      "My 10 character, four decimal number is:     23.45\n"
     ]
    }
   ],
   "source": [
    "num = 23.45\n",
    "print(\"My 10 character, four decimal number is:{0:10.4f}\".format(num))\n",
    "print(f\"My 10 character, four decimal number is:{num:{10}.{6}}\")"
   ]
  },
  {
   "cell_type": "code",
   "execution_count": 35,
   "id": "0c307c82-0aa5-4b50-bc45-cc1fedeef734",
   "metadata": {},
   "outputs": [
    {
     "name": "stdout",
     "output_type": "stream",
     "text": [
      "My 10 character, four decimal number is:   23.4500\n",
      "My 10 character, four decimal number is: 23.450000\n"
     ]
    }
   ],
   "source": [
    "num = 23.45\n",
    "print(\"My 10 character, four decimal number is:{0:10.4f}\".format(num))\n",
    "print(f\"My 10 character, four decimal number is:{num:10.6f}\")"
   ]
  },
  {
   "cell_type": "code",
   "execution_count": null,
   "id": "1fcdf16c-42fd-46ae-9ac4-0ccca3aff2ab",
   "metadata": {},
   "outputs": [],
   "source": []
  }
 ],
 "metadata": {
  "kernelspec": {
   "display_name": "Python 3 (ipykernel)",
   "language": "python",
   "name": "python3"
  },
  "language_info": {
   "codemirror_mode": {
    "name": "ipython",
    "version": 3
   },
   "file_extension": ".py",
   "mimetype": "text/x-python",
   "name": "python",
   "nbconvert_exporter": "python",
   "pygments_lexer": "ipython3",
   "version": "3.11.7"
  }
 },
 "nbformat": 4,
 "nbformat_minor": 5
}
